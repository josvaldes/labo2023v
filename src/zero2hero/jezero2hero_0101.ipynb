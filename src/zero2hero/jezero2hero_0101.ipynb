{
 "cells": [
  {
   "cell_type": "markdown",
   "metadata": {},
   "source": [
    "# Zero to Hero"
   ]
  },
  {
   "cell_type": "markdown",
   "metadata": {},
   "source": [
    "# 1 Arranque rápido"
   ]
  },
  {
   "cell_type": "markdown",
   "metadata": {},
   "source": [
    "En el capítulo 1 se hará un recorrido por las principales componentes del lenguaje R mínimos necesarios para resolver el problema de la asignatura, justificando las elecciones tomadas.\n",
    "<br>\n",
    "No es la idea de estos notebooks ser un manual del lenguaje R ni tampoco de los paquetes."
   ]
  },
  {
   "cell_type": "markdown",
   "metadata": {},
   "source": [
    "## 1.01  Lectura del dataset"
   ]
  },
  {
   "cell_type": "markdown",
   "metadata": {},
   "source": [
    "Trata sobre la motivacion de utilizar  data.table\n",
    "Simplemente se carga el dataset y se mide el tiempo que demora, el que es extremadamente alto e inexplicable."
   ]
  },
  {
   "cell_type": "code",
   "execution_count": 1,
   "metadata": {
    "tags": []
   },
   "outputs": [],
   "source": [
    "setwd(\"C:/Users/Josvaldes/Documents/Maestria/Austral/1ano/laboratorioImp1\")  #Establezco el Working Directory"
   ]
  },
  {
   "cell_type": "markdown",
   "metadata": {},
   "source": [
    "Ahora vamos a cargar el dataframe como en R Base, tradicional, pero vamos a medir el tiempo\n",
    "para conocer la hora actual utilizo la fucion de R  Sys.time\n",
    "y para calcular la diferencia utilizo as.numeric(  t1 - t0, units = \"secs\")  convirtiéndolo a segundos"
   ]
  },
  {
   "cell_type": "markdown",
   "metadata": {},
   "source": [
    "Primero veo que hace la funcion  Sys.time()"
   ]
  },
  {
   "cell_type": "code",
   "execution_count": 2,
   "metadata": {
    "tags": []
   },
   "outputs": [
    {
     "data": {
      "text/plain": [
       "[1] \"2023-04-10 17:44:50 -05\""
      ]
     },
     "metadata": {},
     "output_type": "display_data"
    }
   ],
   "source": [
    "Sys.time()"
   ]
  },
  {
   "cell_type": "markdown",
   "metadata": {},
   "source": [
    "devuelve fecha, hora  y huso horario  ( -03 para el caso de Argentina)\n",
    "<br>\n",
    "Leyendo la documentación  en  https://www.rdocumentation.org/packages/base/versions/3.6.2/topics/Sys.time    veo que la precisión es de 1/60 segundos,  lo cual para el tipo de medidas que tomaremos es más que suficiente."
   ]
  },
  {
   "cell_type": "code",
   "execution_count": 3,
   "metadata": {
    "tags": []
   },
   "outputs": [
    {
     "name": "stdout",
     "output_type": "stream",
     "text": [
      "[1] 27.00919\n"
     ]
    }
   ],
   "source": [
    "t0  <- Sys.time()\n",
    "dataset <- read.csv(\"./datasets/dataset_pequeno.csv\")\n",
    "t1  <- Sys.time()\n",
    "delta  <- as.numeric(  t1 - t0, units = \"secs\")  #calculo la diferencia de tiempos\n",
    "print( delta) #imprimo"
   ]
  },
  {
   "cell_type": "markdown",
   "metadata": {},
   "source": [
    "#### la primer corrida da, en una antigua PC de escritorio con un hdd,  36.4 segundos !\n",
    "¿Qué tenebrosos cálculos estará haciendo para demorar 36.4 segundos?\n",
    "A lo sumo tiene que leer el archivo dos veces, para determinar si un campo es numerico o character."
   ]
  },
  {
   "cell_type": "markdown",
   "metadata": {},
   "source": [
    "vuelvo a correr lo mismo, quizas hubo un problema de acceso al disco, y hasta quizas esta segunda vez el archivo ya esté en la memoria del sistema operativo"
   ]
  },
  {
   "cell_type": "code",
   "execution_count": 4,
   "metadata": {
    "tags": []
   },
   "outputs": [
    {
     "name": "stdout",
     "output_type": "stream",
     "text": [
      "[1] 20.71905\n"
     ]
    }
   ],
   "source": [
    "t0  <- Sys.time()\n",
    "dataset <- read.csv(\"./datasets/dataset_pequeno.csv\")\n",
    "t1  <- Sys.time()\n",
    "delta  <- as.numeric(  t1 - t0, units = \"secs\")  #calculo la diferencia de tiempos\n",
    "print(delta) #imprimo"
   ]
  },
  {
   "cell_type": "markdown",
   "metadata": {},
   "source": [
    "### la segunda corrida da, en la  misma máquina,  30.4 segundos !"
   ]
  },
  {
   "cell_type": "markdown",
   "metadata": {},
   "source": [
    "Se busca bibliografía sobre que alternativa hay al manejo de dataframes del R Base\n",
    "<br>\n",
    "Aparecen varias alternativas, benchmarks muestran la superioridad de data.table\n",
    "<br>\n",
    "Pasamos a probar la libreria  data.table a ver si los becnmarks están en lo cierto, o es solo marketing\n",
    "<br>\n",
    "Si no se tiene instalada la libreria,  instalarla primero con  **install.packages( \"data.table\", dependencies=TRUE )**"
   ]
  },
  {
   "cell_type": "code",
   "execution_count": 22,
   "metadata": {
    "tags": []
   },
   "outputs": [],
   "source": [
    "detach(\"package:data.table\", unload=TRUE)"
   ]
  },
  {
   "cell_type": "code",
   "execution_count": 23,
   "metadata": {
    "tags": []
   },
   "outputs": [
    {
     "name": "stderr",
     "output_type": "stream",
     "text": [
      "Installing package into 'C:/Users/Josvaldes/AppData/Local/R/win-library/4.2'\n",
      "(as 'lib' is unspecified)\n",
      "\n"
     ]
    },
    {
     "name": "stdout",
     "output_type": "stream",
     "text": [
      "package 'data.table' successfully unpacked and MD5 sums checked\n"
     ]
    },
    {
     "name": "stderr",
     "output_type": "stream",
     "text": [
      "Warning message:\n",
      "\"cannot remove prior installation of package 'data.table'\"\n",
      "Warning message in file.copy(savedcopy, lib, recursive = TRUE):\n",
      "\"problema al copiar C:\\Users\\Josvaldes\\AppData\\Local\\R\\win-library\\4.2\\00LOCK\\data.table\\libs\\x64\\data_table.dll  a C:\\Users\\Josvaldes\\AppData\\Local\\R\\win-library\\4.2\\data.table\\libs\\x64\\data_table.dll: Permission denied\"\n",
      "Warning message:\n",
      "\"restored 'data.table'\"\n"
     ]
    },
    {
     "name": "stdout",
     "output_type": "stream",
     "text": [
      "\n",
      "The downloaded binary packages are in\n",
      "\tC:\\Users\\Josvaldes\\AppData\\Local\\Temp\\Rtmpya7Faa\\downloaded_packages\n"
     ]
    }
   ],
   "source": [
    "install.packages(\"data.table\")"
   ]
  },
  {
   "cell_type": "code",
   "execution_count": 26,
   "metadata": {
    "tags": []
   },
   "outputs": [],
   "source": [
    "#install.packages( \"data.table\")\n",
    "library( \"data.table\")   #cargo la libreria  data.table"
   ]
  },
  {
   "cell_type": "code",
   "execution_count": 27,
   "metadata": {
    "tags": []
   },
   "outputs": [
    {
     "ename": "ERROR",
     "evalue": "Error in fread(\"./datasets/dataset_pequeno.csv\"): File './datasets/dataset_pequeno.csv' does not exist or is non-readable. getwd()=='C:/Users/Josvaldes/Documents/Maestria/Austral/1ano/laboratorioImp1/labo2023v/src/zero2hero'\n",
     "output_type": "error",
     "traceback": [
      "Error in fread(\"./datasets/dataset_pequeno.csv\"): File './datasets/dataset_pequeno.csv' does not exist or is non-readable. getwd()=='C:/Users/Josvaldes/Documents/Maestria/Austral/1ano/laboratorioImp1/labo2023v/src/zero2hero'\nTraceback:\n",
      "1. fread(\"./datasets/dataset_pequeno.csv\")",
      "2. stop(\"File '\", file, \"' does not exist or is non-readable. getwd()=='\", \n .     getwd(), \"'\")"
     ]
    }
   ],
   "source": [
    "t0  <- Sys.time()\n",
    "dataset <- fread(\"./datasets/dataset_pequeno.csv\")\n",
    "t1  <- Sys.time()\n",
    "delta  <- as.numeric(  t1 - t0, units = \"secs\")  #calculo la diferencia de tiempos\n",
    "print(delta) #imprimo"
   ]
  },
  {
   "cell_type": "markdown",
   "metadata": {},
   "source": [
    "### la primer corrida da  0.79 segundos"
   ]
  },
  {
   "cell_type": "markdown",
   "metadata": {},
   "source": [
    "Hagamos una segunda corrida"
   ]
  },
  {
   "cell_type": "code",
   "execution_count": null,
   "metadata": {
    "tags": []
   },
   "outputs": [],
   "source": [
    "t0  <- Sys.time()\n",
    "dataset <- fread(\"./datasets/dataset_pequeno.csv\")\n",
    "t1  <- Sys.time()\n",
    "delta  <- as.numeric(  t1 - t0, units = \"secs\")  #calculo la diferencia de tiempos\n",
    "print(delta) #imprimo"
   ]
  },
  {
   "cell_type": "markdown",
   "metadata": {},
   "source": [
    "# la segunda corrida da  1.18 segundos"
   ]
  },
  {
   "cell_type": "markdown",
   "metadata": {},
   "source": [
    "Esta diferencia, calculada en forma muy burda (sin hacer varios experimentos)  es alrededor de 30.4 a 1.2\n",
    "<br>\n",
    "Ciertamente leer un dataset es una tarea que se hace unicamente al comienzo de los programas, pero se lee en la bibligrafía que data.table funciona más rápido para *todas* las operaciones sobre datasets, lo que se confirmará en los siguientes capítulos."
   ]
  },
  {
   "cell_type": "markdown",
   "metadata": {},
   "source": [
    "Es una verdadera pena que los fans de tidyverse no exploren data.table, así como en Python que Pandas sea tan servilmente aceptada."
   ]
  }
 ],
 "metadata": {
  "kernelspec": {
   "display_name": "R",
   "language": "R",
   "name": "ir"
  },
  "language_info": {
   "codemirror_mode": "r",
   "file_extension": ".r",
   "mimetype": "text/x-r-source",
   "name": "R",
   "pygments_lexer": "r",
   "version": "4.2.3"
  }
 },
 "nbformat": 4,
 "nbformat_minor": 4
}
